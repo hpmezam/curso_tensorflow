{
 "cells": [
  {
   "cell_type": "markdown",
   "id": "d8bbf853",
   "metadata": {},
   "source": [
    "#### Constant tensors and variables"
   ]
  },
  {
   "cell_type": "code",
   "execution_count": null,
   "id": "7d0227b5",
   "metadata": {},
   "outputs": [
    {
     "name": "stdout",
     "output_type": "stream",
     "text": [
      "tf.Tensor(\n",
      "[[1. 1. 1.]\n",
      " [1. 1. 1.]], shape=(2, 3), dtype=float32)\n"
     ]
    }
   ],
   "source": [
    "# All-ones\n",
    "import tensorflow as tf\n",
    "\n",
    "x = tf.ones((2, 3))\n",
    "print(x)  # <tf.Tensor: shape=(2, 3), dtype=float32, numpy=...>"
   ]
  },
  {
   "cell_type": "code",
   "execution_count": 2,
   "id": "6798b3f9",
   "metadata": {},
   "outputs": [
    {
     "name": "stdout",
     "output_type": "stream",
     "text": [
      "tf.Tensor(\n",
      "[[0. 0. 0.]\n",
      " [0. 0. 0.]], shape=(2, 3), dtype=float32)\n"
     ]
    }
   ],
   "source": [
    "# All-zeros\n",
    "x = tf.zeros((2, 3))\n",
    "print(x)  # <tf.Tensor: shape=(2, 3), dtype=float32, numpy=...>"
   ]
  },
  {
   "cell_type": "code",
   "execution_count": 7,
   "id": "4aeec03e",
   "metadata": {},
   "outputs": [
    {
     "name": "stdout",
     "output_type": "stream",
     "text": [
      "tf.Tensor(\n",
      "[[0.19700003 0.34295905 0.18798995]\n",
      " [0.37888336 0.7020986  0.51890755]], shape=(2, 3), dtype=float32)\n",
      "\n",
      "tf.Tensor(\n",
      "[[ 1.6992557  -0.86809254 -0.29524034]\n",
      " [-0.64603335 -0.589915    1.2588973 ]], shape=(2, 3), dtype=float32)\n"
     ]
    }
   ],
   "source": [
    "# Random tensors\n",
    "x = tf.random.uniform((2, 3), minval=0, maxval=1) # between 0 and 1\n",
    "print(x)  # <tf.Tensor: shape=(2, 3), dtype=float32, numpy=...>\n",
    "print()\n",
    "x = tf.random.normal((2, 3), mean=0, stddev=1) # Mean 0 and standard deviation 1.\n",
    "print(x)  # <tf.Tensor: shape=(2, 3), dtype=float32, numpy=...>"
   ]
  },
  {
   "cell_type": "markdown",
   "id": "1219c654",
   "metadata": {},
   "source": [
    "A significant difference between NumPy arrays and TensorFlow tensors is that Tensor-\n",
    "Flow tensors aren’t assignable: they’re constant."
   ]
  },
  {
   "cell_type": "code",
   "execution_count": null,
   "id": "be82959e",
   "metadata": {},
   "outputs": [
    {
     "name": "stdout",
     "output_type": "stream",
     "text": [
      "[[0. 1. 1.]\n",
      " [1. 1. 1.]]\n"
     ]
    }
   ],
   "source": [
    "# NumPy arrays are assignable\n",
    "import numpy as np\n",
    "x = np.ones((2, 3))\n",
    "x[0, 0] = 0\n",
    "print(x)  # [[0. 1. 1.] [1. 1. 1.]]"
   ]
  },
  {
   "cell_type": "code",
   "execution_count": 11,
   "id": "855e273c",
   "metadata": {},
   "outputs": [
    {
     "ename": "TypeError",
     "evalue": "'tensorflow.python.framework.ops.EagerTensor' object does not support item assignment",
     "output_type": "error",
     "traceback": [
      "\u001b[1;31m---------------------------------------------------------------------------\u001b[0m",
      "\u001b[1;31mTypeError\u001b[0m                                 Traceback (most recent call last)",
      "Cell \u001b[1;32mIn[11], line 3\u001b[0m\n\u001b[0;32m      1\u001b[0m \u001b[38;5;66;03m# TensorFlow tensors are not assignable\u001b[39;00m\n\u001b[0;32m      2\u001b[0m x \u001b[38;5;241m=\u001b[39m tf\u001b[38;5;241m.\u001b[39mones((\u001b[38;5;241m2\u001b[39m, \u001b[38;5;241m3\u001b[39m))\n\u001b[1;32m----> 3\u001b[0m \u001b[43mx\u001b[49m\u001b[43m[\u001b[49m\u001b[38;5;241;43m0\u001b[39;49m\u001b[43m,\u001b[49m\u001b[43m \u001b[49m\u001b[38;5;241;43m0\u001b[39;49m\u001b[43m]\u001b[49m \u001b[38;5;241m=\u001b[39m \u001b[38;5;241m0\u001b[39m  \u001b[38;5;66;03m# Error: Tensor is immutable\u001b[39;00m\n\u001b[0;32m      4\u001b[0m \u001b[38;5;28mprint\u001b[39m(x)  \u001b[38;5;66;03m# <tf.Tensor: shape=(2, 3), dtype=float32, numpy=...>\u001b[39;00m\n",
      "\u001b[1;31mTypeError\u001b[0m: 'tensorflow.python.framework.ops.EagerTensor' object does not support item assignment"
     ]
    }
   ],
   "source": [
    "# TensorFlow tensors are not assignable\n",
    "x = tf.ones((2, 3))\n",
    "x[0, 0] = 0  # Error: Tensor is immutable\n",
    "print(x)  # <tf.Tensor: shape=(2, 3), dtype=float32, numpy=...>"
   ]
  },
  {
   "cell_type": "code",
   "execution_count": 31,
   "id": "ebe9ce2d",
   "metadata": {},
   "outputs": [
    {
     "name": "stdout",
     "output_type": "stream",
     "text": [
      "Creating a TensorFlow variable:\n",
      "<tf.Variable 'Variable:0' shape=(2, 3) dtype=float32, numpy=\n",
      "array([[-4.3386579e-01,  5.7397783e-01,  2.8143653e-01],\n",
      "       [ 4.0824185e-03,  9.9000000e+01, -9.6249193e-01]], dtype=float32)>\n",
      "\n",
      "Assigning a value to a TensorFlow variable:\n",
      "<tf.Variable 'Variable:0' shape=(2, 3) dtype=float32, numpy=\n",
      "array([[1., 1., 1.],\n",
      "       [1., 1., 1.]], dtype=float32)>\n",
      "\n",
      "Assigning a value to a subset of a TensorFlow variable:\n",
      "<tf.Variable 'Variable:0' shape=(2, 3) dtype=float32, numpy=\n",
      "array([[ 1., 99.,  1.],\n",
      "       [ 1.,  1.,  1.]], dtype=float32)>\n"
     ]
    }
   ],
   "source": [
    "# Creating a TensorFlow variable\n",
    "print('Creating a TensorFlow variable:')\n",
    "x = tf.Variable(tf.random.normal((2, 3))) #To create a variable, you need to provide some initial value, such as a random tensor.\n",
    "x[1, 1].assign(99)  # Assigning a value to a variable\n",
    "print(x)  # <tf.Variable 'Variable:0' shape=(2, 3) dtype=float32, numpy=...>\n",
    "\n",
    "# The state of a variable can be modified via its assign method, as follows.\n",
    "print(f'\\nAssigning a value to a TensorFlow variable:')\n",
    "x.assign(tf.ones((2, 3)))  # Assigning a new value to the variable\n",
    "print(x)  # <tf.Variable 'Variable:0' shape=(2, 2) dtype=float32, numpy=...>\n",
    "\n",
    "print(f'\\nAssigning a value to a subset of a TensorFlow variable:')\n",
    "x[0, 1].assign(99)  # Assigning a value to a specific element of the variable\n",
    "print(x)  # <tf.Variable 'Variable:0' shape=(2, 3) dtype=float32, numpy=...>"
   ]
  },
  {
   "cell_type": "markdown",
   "id": "d50e0d71",
   "metadata": {},
   "source": [
    "#### Tensor operations: Doing math in TensorFlow"
   ]
  },
  {
   "cell_type": "code",
   "execution_count": 39,
   "id": "b5a32a99",
   "metadata": {},
   "outputs": [
    {
     "name": "stdout",
     "output_type": "stream",
     "text": [
      "Tensor: \n",
      "[[ 0.42061698  1.4794505  -0.48010027]\n",
      " [-0.51857364  1.8386749   0.15671276]]\n",
      "\n",
      "Square:\n",
      " [[0.17691864 2.1887736  0.23049627]\n",
      " [0.26891863 3.3807254  0.02455889]]\n"
     ]
    }
   ],
   "source": [
    "# Just like NumPy, TensorFlow offers a large collection of tensor operations to express mathematical formulas.\n",
    "a = tf.random.normal((2, 3)) # 2x3 tensor of ones\n",
    "print(f'Tensor: \\n{a}')  # <tf.Tensor: shape=(2, 3), dtype=float32, numpy=...>\n",
    "b = tf.square(a) # Take the square of each element\n",
    "print(f'\\nSquare:\\n {b}')  # <tf.Tensor: shape=(2, 3), dtype=float32, numpy=...>"
   ]
  }
 ],
 "metadata": {
  "kernelspec": {
   "display_name": "tf_env38",
   "language": "python",
   "name": "python3"
  },
  "language_info": {
   "codemirror_mode": {
    "name": "ipython",
    "version": 3
   },
   "file_extension": ".py",
   "mimetype": "text/x-python",
   "name": "python",
   "nbconvert_exporter": "python",
   "pygments_lexer": "ipython3",
   "version": "3.8.20"
  }
 },
 "nbformat": 4,
 "nbformat_minor": 5
}
