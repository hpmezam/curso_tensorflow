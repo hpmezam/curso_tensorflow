{
 "cells": [
  {
   "cell_type": "markdown",
   "id": "d8bbf853",
   "metadata": {},
   "source": [
    "#### Constant tensors and variables"
   ]
  },
  {
   "cell_type": "code",
   "execution_count": 79,
   "id": "7d0227b5",
   "metadata": {},
   "outputs": [
    {
     "name": "stdout",
     "output_type": "stream",
     "text": [
      "tf.Tensor(\n",
      "[[1. 1. 1.]\n",
      " [1. 1. 1.]], shape=(2, 3), dtype=float32)\n"
     ]
    }
   ],
   "source": [
    "# All-ones\n",
    "import tensorflow as tf\n",
    "\n",
    "x = tf.ones((2, 3))\n",
    "print(x)  # <tf.Tensor: shape=(2, 3), dtype=float32, numpy=...>"
   ]
  },
  {
   "cell_type": "code",
   "execution_count": 80,
   "id": "6798b3f9",
   "metadata": {},
   "outputs": [
    {
     "name": "stdout",
     "output_type": "stream",
     "text": [
      "tf.Tensor(\n",
      "[[0. 0. 0.]\n",
      " [0. 0. 0.]], shape=(2, 3), dtype=float32)\n"
     ]
    }
   ],
   "source": [
    "# All-zeros\n",
    "x = tf.zeros((2, 3))\n",
    "print(x)  # <tf.Tensor: shape=(2, 3), dtype=float32, numpy=...>"
   ]
  },
  {
   "cell_type": "code",
   "execution_count": 81,
   "id": "4aeec03e",
   "metadata": {},
   "outputs": [
    {
     "name": "stdout",
     "output_type": "stream",
     "text": [
      "tf.Tensor(\n",
      "[[0.82794154 0.14513624 0.00158167]\n",
      " [0.24794507 0.05961061 0.42117798]], shape=(2, 3), dtype=float32)\n",
      "\n",
      "tf.Tensor(\n",
      "[[ 0.0568318   0.3809328   0.3885336 ]\n",
      " [-0.44486102 -0.15985307  0.3368398 ]], shape=(2, 3), dtype=float32)\n"
     ]
    }
   ],
   "source": [
    "# Random tensors\n",
    "x = tf.random.uniform((2, 3), minval=0, maxval=1) # between 0 and 1\n",
    "print(x)  # <tf.Tensor: shape=(2, 3), dtype=float32, numpy=...>\n",
    "print()\n",
    "x = tf.random.normal((2, 3), mean=0, stddev=1) # Mean 0 and standard deviation 1.\n",
    "print(x)  # <tf.Tensor: shape=(2, 3), dtype=float32, numpy=...>"
   ]
  },
  {
   "cell_type": "markdown",
   "id": "1219c654",
   "metadata": {},
   "source": [
    "A significant difference between NumPy arrays and TensorFlow tensors is that Tensor-\n",
    "Flow tensors aren’t assignable: they’re constant."
   ]
  },
  {
   "cell_type": "code",
   "execution_count": 82,
   "id": "be82959e",
   "metadata": {},
   "outputs": [
    {
     "name": "stdout",
     "output_type": "stream",
     "text": [
      "[[0. 1. 1.]\n",
      " [1. 1. 1.]]\n"
     ]
    }
   ],
   "source": [
    "# NumPy arrays are assignable\n",
    "import numpy as np\n",
    "x = np.ones((2, 3))\n",
    "x[0, 0] = 0\n",
    "print(x)  # [[0. 1. 1.] [1. 1. 1.]]"
   ]
  },
  {
   "cell_type": "code",
   "execution_count": 83,
   "id": "855e273c",
   "metadata": {},
   "outputs": [
    {
     "ename": "TypeError",
     "evalue": "'tensorflow.python.framework.ops.EagerTensor' object does not support item assignment",
     "output_type": "error",
     "traceback": [
      "\u001b[1;31m---------------------------------------------------------------------------\u001b[0m",
      "\u001b[1;31mTypeError\u001b[0m                                 Traceback (most recent call last)",
      "Cell \u001b[1;32mIn[83], line 3\u001b[0m\n\u001b[0;32m      1\u001b[0m \u001b[38;5;66;03m# TensorFlow tensors are not assignable\u001b[39;00m\n\u001b[0;32m      2\u001b[0m x \u001b[38;5;241m=\u001b[39m tf\u001b[38;5;241m.\u001b[39mones((\u001b[38;5;241m2\u001b[39m, \u001b[38;5;241m3\u001b[39m))\n\u001b[1;32m----> 3\u001b[0m \u001b[43mx\u001b[49m\u001b[43m[\u001b[49m\u001b[38;5;241;43m0\u001b[39;49m\u001b[43m,\u001b[49m\u001b[43m \u001b[49m\u001b[38;5;241;43m0\u001b[39;49m\u001b[43m]\u001b[49m \u001b[38;5;241m=\u001b[39m \u001b[38;5;241m0\u001b[39m  \u001b[38;5;66;03m# Error: Tensor is immutable\u001b[39;00m\n\u001b[0;32m      4\u001b[0m \u001b[38;5;28mprint\u001b[39m(x)  \u001b[38;5;66;03m# <tf.Tensor: shape=(2, 3), dtype=float32, numpy=...>\u001b[39;00m\n",
      "\u001b[1;31mTypeError\u001b[0m: 'tensorflow.python.framework.ops.EagerTensor' object does not support item assignment"
     ]
    }
   ],
   "source": [
    "# TensorFlow tensors are not assignable\n",
    "x = tf.ones((2, 3))\n",
    "x[0, 0] = 0  # Error: Tensor is immutable\n",
    "print(x)  # <tf.Tensor: shape=(2, 3), dtype=float32, numpy=...>"
   ]
  },
  {
   "cell_type": "code",
   "execution_count": null,
   "id": "ebe9ce2d",
   "metadata": {},
   "outputs": [
    {
     "name": "stdout",
     "output_type": "stream",
     "text": [
      "Creating a TensorFlow variable:\n",
      "<tf.Variable 'Variable:0' shape=(2, 3) dtype=float32, numpy=\n",
      "array([[-4.3386579e-01,  5.7397783e-01,  2.8143653e-01],\n",
      "       [ 4.0824185e-03,  9.9000000e+01, -9.6249193e-01]], dtype=float32)>\n",
      "\n",
      "Assigning a value to a TensorFlow variable:\n",
      "<tf.Variable 'Variable:0' shape=(2, 3) dtype=float32, numpy=\n",
      "array([[1., 1., 1.],\n",
      "       [1., 1., 1.]], dtype=float32)>\n",
      "\n",
      "Assigning a value to a subset of a TensorFlow variable:\n",
      "<tf.Variable 'Variable:0' shape=(2, 3) dtype=float32, numpy=\n",
      "array([[ 1., 99.,  1.],\n",
      "       [ 1.,  1.,  1.]], dtype=float32)>\n"
     ]
    }
   ],
   "source": [
    "# Creating a TensorFlow variable\n",
    "print('Creating a TensorFlow variable:')\n",
    "x = tf.Variable(tf.random.normal((2, 3))) #To create a variable, you need to provide some initial value, such as a random tensor.\n",
    "x[1, 1].assign(99)  # Assigning a value to a variable\n",
    "print(x)  # <tf.Variable 'Variable:0' shape=(2, 3) dtype=float32, numpy=...>\n",
    "\n",
    "# The state of a variable can be modified via its assign method, as follows.\n",
    "print(f'\\nAssigning a value to a TensorFlow variable:')\n",
    "x.assign(tf.ones((2, 3)))  # Assigning a new value to the variable\n",
    "print(x)  # <tf.Variable 'Variable:0' shape=(2, 2) dtype=float32, numpy=...>\n",
    "\n",
    "print(f'\\nAssigning a value to a subset of a TensorFlow variable:')\n",
    "x[0, 1].assign(99)  # Assigning a value to a specific element of the variable\n",
    "print(x)  # <tf.Variable 'Variable:0' shape=(2, 3) dtype=float32, numpy=...>"
   ]
  },
  {
   "cell_type": "markdown",
   "id": "d50e0d71",
   "metadata": {},
   "source": [
    "#### Tensor operations: Doing math in TensorFlow"
   ]
  },
  {
   "cell_type": "code",
   "execution_count": 46,
   "id": "b5a32a99",
   "metadata": {},
   "outputs": [
    {
     "name": "stdout",
     "output_type": "stream",
     "text": [
      "Tensor: \n",
      "[[ 1.583734   -0.35057518]\n",
      " [ 0.40060303  1.0198795 ]]\n",
      "\n",
      "Square:\n",
      " [[2.5082135  0.12290296]\n",
      " [0.16048278 1.0401541 ]]\n",
      "\n",
      "Square root:\n",
      " [[1.2584649         nan]\n",
      " [0.63293207 1.0098908 ]]\n",
      "\n",
      "Addition:\n",
      " [[3.7666783         nan]\n",
      " [0.79341483 2.050045  ]]\n",
      "\n",
      "Multiplication:\n",
      " [[14.750621         nan]\n",
      " [ 0.9270822  2.2756877]]\n"
     ]
    }
   ],
   "source": [
    "# Just like NumPy, TensorFlow offers a large collection of tensor operations to express mathematical formulas.\n",
    "a = tf.random.normal((2, 2)) # 2x3 tensor of ones\n",
    "print(f'Tensor: \\n{a}')  # <tf.Tensor: shape=(2, 3), dtype=float32, numpy=...>\n",
    "b = tf.square(a) # Take the square of each element\n",
    "print(f'\\nSquare:\\n {b}')  # <tf.Tensor: shape=(2, 3), dtype=float32, numpy=...>\n",
    "c = tf.sqrt(a) # Take the square root of each element\n",
    "print(f'\\nSquare root:\\n {c}')  # <tf.Tensor: shape=(2, 3), dtype=float32, numpy=...>\n",
    "d = c + b # Add two tensors\n",
    "print(f'\\nAddition:\\n {d}')  # <tf.Tensor: shape=(2, 3), dtype=float32, numpy=...>\n",
    "e = tf.matmul(a, b) # Matrix multiplication\n",
    "e *= d # Multiply two tensors\n",
    "print(f'\\nMultiplication:\\n {e}')  # <tf.Tensor: shape=(2, 3), dtype=float32, numpy=...>"
   ]
  },
  {
   "cell_type": "markdown",
   "id": "6e5641ad",
   "metadata": {},
   "source": [
    "#### A second look at the GradientTape API"
   ]
  },
  {
   "cell_type": "code",
   "execution_count": 50,
   "id": "88f5b125",
   "metadata": {},
   "outputs": [
    {
     "name": "stdout",
     "output_type": "stream",
     "text": [
      "Gradiente: 6.0\n"
     ]
    }
   ],
   "source": [
    "# Using the GradientTape\n",
    "input_var = tf.Variable(initial_value = 3.0)\n",
    "with tf.GradientTape() as tape:\n",
    "    result = tf.square(input_var) # y = x^2\n",
    "gradient = tape.gradient(result, input_var) # y = 2x -> y = 2 * 3 = 6\n",
    "print(\"Gradiente:\", gradient.numpy())"
   ]
  },
  {
   "cell_type": "code",
   "execution_count": 51,
   "id": "f0ae936d",
   "metadata": {},
   "outputs": [
    {
     "name": "stdout",
     "output_type": "stream",
     "text": [
      "Gradiente: 6.0\n"
     ]
    }
   ],
   "source": [
    "# Using GradientTape with constant tensor inputs\n",
    "input_const = tf.constant(3.0)\n",
    "with tf.GradientTape() as tape:\n",
    "    tape.watch(input_const) # Watch the constant tensor\n",
    "    result = tf.square(input_const) # y = x^2\n",
    "gradient = tape.gradient(result, input_const) # y = 2x -> y = 2 * 3 = 6\n",
    "print(\"Gradiente:\", gradient.numpy()) # Gradient is None because input_const is not a variable"
   ]
  },
  {
   "cell_type": "code",
   "execution_count": 92,
   "id": "70b34c2f",
   "metadata": {},
   "outputs": [
    {
     "name": "stdout",
     "output_type": "stream",
     "text": [
      "First derivative: [[0.40903437 0.3483882  7.1193295 ]\n",
      " [1.522322   0.95670193 2.1377828 ]]\n",
      "Second derivative: [[ 2.2154937  2.0446658 -9.242941 ]\n",
      " [ 4.274092   3.3882773  5.064918 ]]\n"
     ]
    }
   ],
   "source": [
    "# Using nested gradient tapes to compute second-order gradients\n",
    "x = tf.Variable(tf.random.normal((2, 3)), dtype=tf.float32) # Random variable\n",
    "with tf.GradientTape() as segunda:\n",
    "    with tf.GradientTape() as primera:\n",
    "        y = x**3 # y = x^3\n",
    "    dy_dx = primera.gradient(y, x) # y' = 3x^2  -> dy/dx = 3 * 3^2 = 27\n",
    "dy2_dx2 = segunda.gradient(dy_dx, x) # y'' = 6x^2 -> dy2/dx2 = 6 * 3 = 18\n",
    "print(f'First derivative: {dy_dx.numpy()}') \n",
    "print(f'Second derivative: {dy2_dx2.numpy()}')"
   ]
  },
  {
   "cell_type": "code",
   "execution_count": 90,
   "id": "4ddb8fd3",
   "metadata": {},
   "outputs": [
    {
     "name": "stdout",
     "output_type": "stream",
     "text": [
      "Position: [[ 8.225901    0.44124174  0.7036323 ]\n",
      " [10.874526    0.42015687  2.6559587 ]]\n",
      "Speed: [[-12.697546   -2.9408057   3.7136495]\n",
      " [ 14.5993395   2.869682   -7.2150393]]\n"
     ]
    }
   ],
   "source": [
    "time = tf.Variable(tf.random.normal((2, 3)))  # Time variable\n",
    "with tf.GradientTape() as outer_tape:\n",
    "    with tf.GradientTape() as inner_tape:\n",
    "        position = 4.9 * time ** 2\n",
    "    speed = inner_tape.gradient(position, time)\n",
    "acceleration = outer_tape.gradient(speed, time)\n",
    "\n",
    "print(f'Position: {position.numpy()}')\n",
    "print(f'Speed: {speed.numpy()}')"
   ]
  },
  {
   "cell_type": "markdown",
   "id": "7d6ff060",
   "metadata": {},
   "source": [
    "#### An end-to-end example: A linear classifier in pure TensorFlow"
   ]
  },
  {
   "cell_type": "code",
   "execution_count": 102,
   "id": "317db203",
   "metadata": {},
   "outputs": [
    {
     "data": {
      "text/plain": [
       "array([[ 3.13460495, -1.14608716],\n",
       "       [ 0.81986158, -1.71219049],\n",
       "       [ 1.78164731, -1.29684045],\n",
       "       ...,\n",
       "       [ 2.85837306,  1.28208879],\n",
       "       [ 3.01370775, -1.17579099],\n",
       "       [ 3.04701605,  1.24387589]])"
      ]
     },
     "execution_count": 102,
     "metadata": {},
     "output_type": "execute_result"
    }
   ],
   "source": [
    "# Generating two classes of random points in a 2D plane\n",
    "import numpy as np\n",
    "num_samples_per_class = 1000\n",
    "negative_samples = np.random.multivariate_normal(\n",
    "    mean = [0, 3],\n",
    "    cov = [[1, 0.5], [0.5, 1]],\n",
    "    size = num_samples_per_class\n",
    ")\n",
    "positive_samples = np.random.multivariate_normal(\n",
    "    mean = [3, 0],\n",
    "    cov = [[1, 0.5],[0.5, 1]],\n",
    "    size = num_samples_per_class\n",
    ")\n",
    "positive_samples"
   ]
  },
  {
   "cell_type": "code",
   "execution_count": 105,
   "id": "e42f4f73",
   "metadata": {},
   "outputs": [
    {
     "data": {
      "text/plain": [
       "(2000, 2)"
      ]
     },
     "execution_count": 105,
     "metadata": {},
     "output_type": "execute_result"
    }
   ],
   "source": [
    "# Stacking the two classes into an array with shape (2000, 2)\n",
    "inputs = np.vstack((negative_samples, positive_samples)).astype(np.float32)\n",
    "inputs.shape"
   ]
  },
  {
   "cell_type": "code",
   "execution_count": 104,
   "id": "ab451003",
   "metadata": {},
   "outputs": [
    {
     "data": {
      "text/plain": [
       "(2000, 1)"
      ]
     },
     "execution_count": 104,
     "metadata": {},
     "output_type": "execute_result"
    }
   ],
   "source": [
    "# Generating the corresponding targets (0 and 1)\n",
    "targets = np.vstack((\n",
    "    np.zeros(\n",
    "        (num_samples_per_class, 1), dtype=\"float32\"),\n",
    "        np.ones((num_samples_per_class, 1), dtype=\"float32\")\n",
    "    )\n",
    ")\n",
    "targets.shape"
   ]
  },
  {
   "cell_type": "code",
   "execution_count": 111,
   "id": "efac90bd",
   "metadata": {},
   "outputs": [
    {
     "data": {
      "image/png": "[encoded data removed]",
      "text/plain": [
       "<Figure size 640x480 with 1 Axes>"
      ]
     },
     "metadata": {},
     "output_type": "display_data"
    }
   ],
   "source": [
    "# Plotting the two point classes\n",
    "import matplotlib.pyplot as plt\n",
    "plt.scatter(inputs[:, 0], inputs[:, 1], c=targets[:, 0])\n",
    "plt.show()"
   ]
  },
  {
   "cell_type": "code",
   "execution_count": 119,
   "id": "6955a53a",
   "metadata": {},
   "outputs": [
    {
     "data": {
      "text/plain": [
       "(<tf.Tensor: shape=(5, 1), dtype=float32, numpy=\n",
       " array([[ 1.6116992 ],\n",
       "        [10.164703  ],\n",
       "        [-0.04701793],\n",
       "        [ 0.39118612],\n",
       "        [ 1.9284029 ]], dtype=float32)>,\n",
       " array([[0.],\n",
       "        [0.],\n",
       "        [0.],\n",
       "        [0.],\n",
       "        [0.]], dtype=float32))"
      ]
     },
     "execution_count": 119,
     "metadata": {},
     "output_type": "execute_result"
    }
   ],
   "source": [
    "# Creating the linear classifier variables\n",
    "input_dim = 2\n",
    "output_dim = 1\n",
    "W = tf.Variable(tf.random.normal(shape=(2, 1)))\n",
    "b = tf.Variable(tf.zeros(shape=(1,)))\n",
    "\n",
    "\n",
    "def model(inputs):\n",
    "    return tf.matmul(inputs, W) + b\n",
    "\n",
    "model(inputs[:5, :]), targets[:5, :]  # Model output for the first 5 samples"
   ]
  },
  {
   "cell_type": "code",
   "execution_count": 114,
   "id": "5e6d42a9",
   "metadata": {},
   "outputs": [
    {
     "name": "stdout",
     "output_type": "stream",
     "text": [
      "Mean squared error: 0.1666666716337204\n"
     ]
    }
   ],
   "source": [
    "# The mean squared error loss function\n",
    "def square_loss(targets, predictions):\n",
    "    per_sample_losses = tf.square(targets - predictions)\n",
    "    return tf.reduce_mean(per_sample_losses)\n",
    "\n",
    "y_true = tf.constant([1.0, 2.0, 3.0])\n",
    "y_pred = tf.constant([1.5, 2.0, 2.5])\n",
    "loss = square_loss(y_true, y_pred)\n",
    "print(f\"Mean squared error: {loss.numpy()}\")"
   ]
  },
  {
   "cell_type": "code",
   "execution_count": 120,
   "id": "c9b17944",
   "metadata": {},
   "outputs": [],
   "source": [
    "# The training step function\n",
    "learning_rate = 0.1\n",
    "def training_step(inputs, targets):\n",
    "    with tf.GradientTape() as tape:\n",
    "        predictions = model(inputs)\n",
    "    loss = square_loss(predictions, targets)\n",
    "    grad_loss_wrt_W, grad_loss_wrt_b = tape.gradient(loss, [W, b])\n",
    "    W.assign_sub(grad_loss_wrt_W * learning_rate)\n",
    "    b.assign_sub(grad_loss_wrt_b * learning_rate)\n",
    "    return loss"
   ]
  },
  {
   "cell_type": "code",
   "execution_count": 124,
   "id": "e338f84f",
   "metadata": {},
   "outputs": [
    {
     "name": "stdout",
     "output_type": "stream",
     "text": [
      "Loss at step 1: 12.5679\n",
      "Loss at step 2: 7.1792\n",
      "Loss at step 3: 4.1380\n",
      "Loss at step 4: 2.4089\n",
      "Loss at step 5: 1.4174\n",
      "Loss at step 6: 0.8436\n",
      "Loss at step 7: 0.5081\n",
      "Loss at step 8: 0.3097\n",
      "Loss at step 9: 0.1910\n",
      "Loss at step 10: 0.1192\n",
      "Loss at step 11: 0.0752\n",
      "Loss at step 12: 0.0479\n",
      "Loss at step 13: 0.0308\n",
      "Loss at step 14: 0.0200\n",
      "Loss at step 15: 0.0131\n",
      "Loss at step 16: 0.0086\n",
      "Loss at step 17: 0.0057\n",
      "Loss at step 18: 0.0038\n",
      "Loss at step 19: 0.0025\n",
      "Loss at step 20: 0.0017\n",
      "Loss at step 21: 0.0011\n",
      "Loss at step 22: 0.0008\n",
      "Loss at step 23: 0.0005\n",
      "Loss at step 24: 0.0003\n",
      "Loss at step 25: 0.0002\n",
      "Loss at step 26: 0.0002\n",
      "Loss at step 27: 0.0001\n",
      "Loss at step 28: 0.0001\n",
      "Loss at step 29: 0.0000\n",
      "Loss at step 30: 0.0000\n",
      "Loss at step 31: 0.0000\n",
      "Loss at step 32: 0.0000\n",
      "Loss at step 33: 0.0000\n",
      "Loss at step 34: 0.0000\n",
      "Loss at step 35: 0.0000\n",
      "Loss at step 36: 0.0000\n",
      "Loss at step 37: 0.0000\n",
      "Loss at step 38: 0.0000\n",
      "Loss at step 39: 0.0000\n",
      "Loss at step 40: 0.0000\n"
     ]
    }
   ],
   "source": [
    "import tensorflow as tf\n",
    "import numpy as np\n",
    "\n",
    "# Datos sintéticos\n",
    "inputs = tf.random.normal((100, 2))\n",
    "targets = tf.matmul(inputs, [[2.0], [-3.0]]) + 1.0\n",
    "\n",
    "# Variables entrenables\n",
    "W = tf.Variable(tf.random.normal((2, 1)))\n",
    "b = tf.Variable(tf.zeros((1,)))\n",
    "\n",
    "# Función de pérdida\n",
    "def square_loss(predictions, targets):\n",
    "    return tf.reduce_mean(tf.square(predictions - targets))\n",
    "\n",
    "# Modelo simple\n",
    "def model(x):\n",
    "    return tf.matmul(x, W) + b\n",
    "\n",
    "# Paso de entrenamiento\n",
    "learning_rate = 0.1\n",
    "def training_step(inputs, targets):\n",
    "    with tf.GradientTape() as tape:\n",
    "        predictions = model(inputs)\n",
    "        loss = square_loss(predictions, targets)\n",
    "    gradients = tape.gradient(loss, [W, b])\n",
    "    W.assign_sub(gradients[0] * learning_rate)\n",
    "    b.assign_sub(gradients[1] * learning_rate)\n",
    "    return loss\n",
    "\n",
    "for step in range(40):\n",
    "    loss = training_step(inputs, targets)\n",
    "    print(f\"Loss at step {step+1}: {loss:.4f}\")\n",
    "\n"
   ]
  },
  {
   "cell_type": "code",
   "execution_count": 125,
   "id": "eaa5cde5",
   "metadata": {},
   "outputs": [
    {
     "data": {
      "image/png": "[encoded data removed]",
      "text/plain": [
       "<Figure size 640x480 with 1 Axes>"
      ]
     },
     "metadata": {},
     "output_type": "display_data"
    }
   ],
   "source": [
    "predictions = model(inputs)\n",
    "plt.scatter(inputs[:, 0], inputs[:, 1], c=predictions[:, 0] > 0.5)\n",
    "plt.show()"
   ]
  }
 ],
 "metadata": {
  "kernelspec": {
   "display_name": "tf_env38",
   "language": "python",
   "name": "python3"
  },
  "language_info": {
   "codemirror_mode": {
    "name": "ipython",
    "version": 3
   },
   "file_extension": ".py",
   "mimetype": "text/x-python",
   "name": "python",
   "nbconvert_exporter": "python",
   "pygments_lexer": "ipython3",
   "version": "3.8.20"
  }
 },
 "nbformat": 4,
 "nbformat_minor": 5
}
